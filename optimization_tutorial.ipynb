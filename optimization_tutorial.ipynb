{
 "cells": [
  {
   "cell_type": "code",
   "execution_count": 1,
   "metadata": {
    "collapsed": false,
    "jupyter": {
     "outputs_hidden": false
    }
   },
   "outputs": [],
   "source": [
    "# For tips on running notebooks in Google Colab, see\n",
    "# https://pytorch.org/tutorials/beginner/colab\n",
    "%matplotlib inline"
   ]
  },
  {
   "cell_type": "markdown",
   "metadata": {},
   "source": [
    "\n",
    "[Learn the Basics](intro.html) ||\n",
    "[Quickstart](quickstart_tutorial.html) ||\n",
    "[Tensors](tensorqs_tutorial.html) ||\n",
    "[Datasets & DataLoaders](data_tutorial.html) ||\n",
    "[Transforms](transforms_tutorial.html) ||\n",
    "[Build Model](buildmodel_tutorial.html) ||\n",
    "[Autograd](autogradqs_tutorial.html) ||\n",
    "**Optimization** ||\n",
    "[Save & Load Model](saveloadrun_tutorial.html)\n",
    "\n",
    "# Optimizing Model Parameters\n",
    "\n",
    "Now that we have a model and data it's time to train, validate and test our model by optimizing its parameters on\n",
    "our data. Training a model is an iterative process; in each iteration the model makes a guess about the output, calculates\n",
    "the error in its guess (*loss*), collects the derivatives of the error with respect to its parameters (as we saw in\n",
    "the [previous section](autograd_tutorial.html)), and **optimizes** these parameters using gradient descent. For a more\n",
    "detailed walkthrough of this process, check out this video on [backpropagation from 3Blue1Brown](https://www.youtube.com/watch?v=tIeHLnjs5U8)_.\n",
    "\n",
    "## Prerequisite Code\n",
    "We load the code from the previous sections on [Datasets & DataLoaders](data_tutorial.html)\n",
    "and [Build Model](buildmodel_tutorial.html).\n"
   ]
  },
  {
   "cell_type": "code",
   "execution_count": 2,
   "metadata": {
    "collapsed": false,
    "jupyter": {
     "outputs_hidden": false
    }
   },
   "outputs": [],
   "source": [
    "import torch\n",
    "from torch import nn\n",
    "from torch.utils.data import DataLoader\n",
    "from torchvision import datasets\n",
    "from torchvision.transforms import ToTensor\n",
    "\n",
    "training_data = datasets.FashionMNIST(\n",
    "    root=\"data\",\n",
    "    train=True,\n",
    "    download=True,\n",
    "    transform=ToTensor()\n",
    ")\n",
    "\n",
    "test_data = datasets.FashionMNIST(\n",
    "    root=\"data\",\n",
    "    train=False,\n",
    "    download=True,\n",
    "    transform=ToTensor()\n",
    ")\n",
    "\n",
    "train_dataloader = DataLoader(training_data, batch_size=64)\n",
    "test_dataloader = DataLoader(test_data, batch_size=64)\n",
    "\n",
    "class NeuralNetwork(nn.Module):\n",
    "    def __init__(self):\n",
    "        super().__init__()\n",
    "        self.flatten = nn.Flatten()\n",
    "        self.linear_relu_stack = nn.Sequential(\n",
    "            nn.Linear(28*28, 512),\n",
    "            nn.ReLU(),\n",
    "            nn.Linear(512, 512),\n",
    "            nn.ReLU(),\n",
    "            nn.Linear(512, 10),\n",
    "        )\n",
    "\n",
    "    def forward(self, x):\n",
    "        x = self.flatten(x)\n",
    "        logits = self.linear_relu_stack(x)\n",
    "        return logits\n",
    "\n",
    "model = NeuralNetwork()"
   ]
  },
  {
   "cell_type": "markdown",
   "metadata": {},
   "source": [
    "## Hyperparameters\n",
    "\n",
    "Hyperparameters are adjustable parameters that let you control the model optimization process.\n",
    "Different hyperparameter values can impact model training and convergence rates\n",
    "([read more](https://pytorch.org/tutorials/beginner/hyperparameter_tuning_tutorial.html)_ about hyperparameter tuning)\n",
    "\n",
    "We define the following hyperparameters for training:\n",
    " - **Number of Epochs** - the number times to iterate over the dataset\n",
    " - **Batch Size** - the number of data samples propagated through the network before the parameters are updated\n",
    " - **Learning Rate** - how much to update models parameters at each batch/epoch. Smaller values yield slow learning speed, while large values may result in unpredictable behavior during training.\n",
    "\n",
    "\n"
   ]
  },
  {
   "cell_type": "code",
   "execution_count": 3,
   "metadata": {
    "collapsed": false,
    "jupyter": {
     "outputs_hidden": false
    }
   },
   "outputs": [],
   "source": [
    "learning_rate = 1e-3\n",
    "batch_size = 64\n",
    "epochs = 5"
   ]
  },
  {
   "cell_type": "markdown",
   "metadata": {},
   "source": [
    "## Optimization Loop\n",
    "\n",
    "Once we set our hyperparameters, we can then train and optimize our model with an optimization loop. Each\n",
    "iteration of the optimization loop is called an **epoch**.\n",
    "\n",
    "Each epoch consists of two main parts:\n",
    " - **The Train Loop** - iterate over the training dataset and try to converge to optimal parameters.\n",
    " - **The Validation/Test Loop** - iterate over the test dataset to check if model performance is improving.\n",
    "\n",
    "Let's briefly familiarize ourselves with some of the concepts used in the training loop. Jump ahead to\n",
    "see the `full-impl-label` of the optimization loop.\n",
    "\n",
    "### Loss Function\n",
    "\n",
    "When presented with some training data, our untrained network is likely not to give the correct\n",
    "answer. **Loss function** measures the degree of dissimilarity of obtained result to the target value,\n",
    "and it is the loss function that we want to minimize during training. To calculate the loss we make a\n",
    "prediction using the inputs of our given data sample and compare it against the true data label value.\n",
    "\n",
    "Common loss functions include [nn.MSELoss](https://pytorch.org/docs/stable/generated/torch.nn.MSELoss.html#torch.nn.MSELoss) (Mean Square Error) for regression tasks, and\n",
    "[nn.NLLLoss](https://pytorch.org/docs/stable/generated/torch.nn.NLLLoss.html#torch.nn.NLLLoss) (Negative Log Likelihood) for classification.\n",
    "[nn.CrossEntropyLoss](https://pytorch.org/docs/stable/generated/torch.nn.CrossEntropyLoss.html#torch.nn.CrossEntropyLoss) combines ``nn.LogSoftmax`` and ``nn.NLLLoss``.\n",
    "\n",
    "We pass our model's output logits to ``nn.CrossEntropyLoss``, which will normalize the logits and compute the prediction error.\n",
    "\n"
   ]
  },
  {
   "cell_type": "code",
   "execution_count": 4,
   "metadata": {
    "collapsed": false,
    "jupyter": {
     "outputs_hidden": false
    }
   },
   "outputs": [],
   "source": [
    "# Initialize the loss function\n",
    "loss_fn = nn.CrossEntropyLoss()"
   ]
  },
  {
   "cell_type": "markdown",
   "metadata": {},
   "source": [
    "### Optimizer\n",
    "\n",
    "Optimization is the process of adjusting model parameters to reduce model error in each training step. **Optimization algorithms** define how this process is performed (in this example we use Stochastic Gradient Descent).\n",
    "All optimization logic is encapsulated in  the ``optimizer`` object. Here, we use the SGD optimizer; additionally, there are many [different optimizers](https://pytorch.org/docs/stable/optim.html)\n",
    "available in PyTorch such as ADAM and RMSProp, that work better for different kinds of models and data.\n",
    "\n",
    "We initialize the optimizer by registering the model's parameters that need to be trained, and passing in the learning rate hyperparameter.\n",
    "\n"
   ]
  },
  {
   "cell_type": "code",
   "execution_count": 5,
   "metadata": {
    "collapsed": false,
    "jupyter": {
     "outputs_hidden": false
    }
   },
   "outputs": [],
   "source": [
    "optimizer = torch.optim.SGD(model.parameters(), lr=learning_rate)"
   ]
  },
  {
   "cell_type": "markdown",
   "metadata": {},
   "source": [
    "Inside the training loop, optimization happens in three steps:\n",
    " * Call ``optimizer.zero_grad()`` to reset the gradients of model parameters. Gradients by default add up; to prevent double-counting, we explicitly zero them at each iteration.\n",
    " * Backpropagate the prediction loss with a call to ``loss.backward()``. PyTorch deposits the gradients of the loss w.r.t. each parameter.\n",
    " * Once we have our gradients, we call ``optimizer.step()`` to adjust the parameters by the gradients collected in the backward pass.\n",
    "\n"
   ]
  },
  {
   "cell_type": "markdown",
   "metadata": {},
   "source": [
    "\n",
    "## Full Implementation\n",
    "We define ``train_loop`` that loops over our optimization code, and ``test_loop`` that\n",
    "evaluates the model's performance against our test data.\n",
    "\n"
   ]
  },
  {
   "cell_type": "code",
   "execution_count": 6,
   "metadata": {
    "collapsed": false,
    "jupyter": {
     "outputs_hidden": false
    }
   },
   "outputs": [],
   "source": [
    "def train_loop(dataloader, model, loss_fn, optimizer):\n",
    "    size = len(dataloader.dataset)\n",
    "    # Set the model to training mode - important for batch normalization and dropout layers\n",
    "    # Unnecessary in this situation but added for best practices\n",
    "    model.train()\n",
    "    for batch, (X, y) in enumerate(dataloader):\n",
    "        # Compute prediction and loss\n",
    "        pred = model(X)\n",
    "        loss = loss_fn(pred, y)\n",
    "\n",
    "        # Backpropagation\n",
    "        loss.backward()\n",
    "        optimizer.step()\n",
    "        optimizer.zero_grad()\n",
    "\n",
    "        if batch % 100 == 0:\n",
    "            loss, current = loss.item(), (batch + 1) * len(X)\n",
    "            print(f\"loss: {loss:>7f}  [{current:>5d}/{size:>5d}]\")\n",
    "\n",
    "\n",
    "def test_loop(dataloader, model, loss_fn):\n",
    "    # Set the model to evaluation mode - important for batch normalization and dropout layers\n",
    "    # Unnecessary in this situation but added for best practices\n",
    "    model.eval()\n",
    "    size = len(dataloader.dataset)\n",
    "    num_batches = len(dataloader)\n",
    "    test_loss, correct = 0, 0\n",
    "\n",
    "    # Evaluating the model with torch.no_grad() ensures that no gradients are computed during test mode\n",
    "    # also serves to reduce unnecessary gradient computations and memory usage for tensors with requires_grad=True\n",
    "    with torch.no_grad():\n",
    "        for X, y in dataloader:\n",
    "            pred = model(X)\n",
    "            test_loss += loss_fn(pred, y).item()\n",
    "            correct += (pred.argmax(1) == y).type(torch.float).sum().item()\n",
    "\n",
    "    test_loss /= num_batches\n",
    "    correct /= size\n",
    "    print(f\"Test Error: \\n Accuracy: {(100*correct):>0.1f}%, Avg loss: {test_loss:>8f} \\n\")"
   ]
  },
  {
   "cell_type": "markdown",
   "metadata": {},
   "source": [
    "We initialize the loss function and optimizer, and pass it to ``train_loop`` and ``test_loop``.\n",
    "Feel free to increase the number of epochs to track the model's improving performance.\n",
    "\n"
   ]
  },
  {
   "cell_type": "code",
   "execution_count": 7,
   "metadata": {
    "collapsed": false,
    "jupyter": {
     "outputs_hidden": false
    }
   },
   "outputs": [
    {
     "name": "stdout",
     "output_type": "stream",
     "text": [
      "Epoch 1\n",
      "-------------------------------\n",
      "loss: 2.307338  [   64/60000]\n",
      "loss: 2.292570  [ 6464/60000]\n",
      "loss: 2.265772  [12864/60000]\n",
      "loss: 2.253867  [19264/60000]\n",
      "loss: 2.250291  [25664/60000]\n",
      "loss: 2.211451  [32064/60000]\n",
      "loss: 2.223098  [38464/60000]\n",
      "loss: 2.185198  [44864/60000]\n",
      "loss: 2.181703  [51264/60000]\n",
      "loss: 2.148907  [57664/60000]\n",
      "Test Error: \n",
      " Accuracy: 34.2%, Avg loss: 2.139280 \n",
      "\n",
      "Epoch 2\n",
      "-------------------------------\n",
      "loss: 2.161295  [   64/60000]\n",
      "loss: 2.148117  [ 6464/60000]\n",
      "loss: 2.084039  [12864/60000]\n",
      "loss: 2.094793  [19264/60000]\n",
      "loss: 2.060814  [25664/60000]\n",
      "loss: 1.992465  [32064/60000]\n",
      "loss: 2.025516  [38464/60000]\n",
      "loss: 1.943509  [44864/60000]\n",
      "loss: 1.944163  [51264/60000]\n",
      "loss: 1.882551  [57664/60000]\n",
      "Test Error: \n",
      " Accuracy: 52.2%, Avg loss: 1.868498 \n",
      "\n",
      "Epoch 3\n",
      "-------------------------------\n",
      "loss: 1.916332  [   64/60000]\n",
      "loss: 1.879139  [ 6464/60000]\n",
      "loss: 1.758714  [12864/60000]\n",
      "loss: 1.794995  [19264/60000]\n",
      "loss: 1.697633  [25664/60000]\n",
      "loss: 1.653022  [32064/60000]\n",
      "loss: 1.676660  [38464/60000]\n",
      "loss: 1.580671  [44864/60000]\n",
      "loss: 1.603392  [51264/60000]\n",
      "loss: 1.510546  [57664/60000]\n",
      "Test Error: \n",
      " Accuracy: 59.6%, Avg loss: 1.509441 \n",
      "\n",
      "Epoch 4\n",
      "-------------------------------\n",
      "loss: 1.590755  [   64/60000]\n",
      "loss: 1.547300  [ 6464/60000]\n",
      "loss: 1.397813  [12864/60000]\n",
      "loss: 1.465643  [19264/60000]\n",
      "loss: 1.357242  [25664/60000]\n",
      "loss: 1.353593  [32064/60000]\n",
      "loss: 1.369029  [38464/60000]\n",
      "loss: 1.297216  [44864/60000]\n",
      "loss: 1.327604  [51264/60000]\n",
      "loss: 1.238141  [57664/60000]\n",
      "Test Error: \n",
      " Accuracy: 63.8%, Avg loss: 1.248487 \n",
      "\n",
      "Epoch 5\n",
      "-------------------------------\n",
      "loss: 1.336589  [   64/60000]\n",
      "loss: 1.310550  [ 6464/60000]\n",
      "loss: 1.146255  [12864/60000]\n",
      "loss: 1.247899  [19264/60000]\n",
      "loss: 1.136011  [25664/60000]\n",
      "loss: 1.155212  [32064/60000]\n",
      "loss: 1.177241  [38464/60000]\n",
      "loss: 1.118436  [44864/60000]\n",
      "loss: 1.152130  [51264/60000]\n",
      "loss: 1.074744  [57664/60000]\n",
      "Test Error: \n",
      " Accuracy: 65.4%, Avg loss: 1.083959 \n",
      "\n",
      "Epoch 6\n",
      "-------------------------------\n",
      "loss: 1.164725  [   64/60000]\n",
      "loss: 1.158253  [ 6464/60000]\n",
      "loss: 0.977680  [12864/60000]\n",
      "loss: 1.109696  [19264/60000]\n",
      "loss: 0.996307  [25664/60000]\n",
      "loss: 1.020061  [32064/60000]\n",
      "loss: 1.056555  [38464/60000]\n",
      "loss: 1.003677  [44864/60000]\n",
      "loss: 1.037805  [51264/60000]\n",
      "loss: 0.970481  [57664/60000]\n",
      "Test Error: \n",
      " Accuracy: 66.2%, Avg loss: 0.976828 \n",
      "\n",
      "Epoch 7\n",
      "-------------------------------\n",
      "loss: 1.045217  [   64/60000]\n",
      "loss: 1.058837  [ 6464/60000]\n",
      "loss: 0.861684  [12864/60000]\n",
      "loss: 1.016981  [19264/60000]\n",
      "loss: 0.907820  [25664/60000]\n",
      "loss: 0.924419  [32064/60000]\n",
      "loss: 0.977112  [38464/60000]\n",
      "loss: 0.929117  [44864/60000]\n",
      "loss: 0.959484  [51264/60000]\n",
      "loss: 0.900637  [57664/60000]\n",
      "Test Error: \n",
      " Accuracy: 67.3%, Avg loss: 0.904079 \n",
      "\n",
      "Epoch 8\n",
      "-------------------------------\n",
      "loss: 0.958114  [   64/60000]\n",
      "loss: 0.990296  [ 6464/60000]\n",
      "loss: 0.779675  [12864/60000]\n",
      "loss: 0.951519  [19264/60000]\n",
      "loss: 0.849222  [25664/60000]\n",
      "loss: 0.854809  [32064/60000]\n",
      "loss: 0.921723  [38464/60000]\n",
      "loss: 0.879796  [44864/60000]\n",
      "loss: 0.903751  [51264/60000]\n",
      "loss: 0.851418  [57664/60000]\n",
      "Test Error: \n",
      " Accuracy: 68.3%, Avg loss: 0.852353 \n",
      "\n",
      "Epoch 9\n",
      "-------------------------------\n",
      "loss: 0.891963  [   64/60000]\n",
      "loss: 0.939949  [ 6464/60000]\n",
      "loss: 0.719348  [12864/60000]\n",
      "loss: 0.903378  [19264/60000]\n",
      "loss: 0.808217  [25664/60000]\n",
      "loss: 0.803237  [32064/60000]\n",
      "loss: 0.880135  [38464/60000]\n",
      "loss: 0.845865  [44864/60000]\n",
      "loss: 0.862322  [51264/60000]\n",
      "loss: 0.814959  [57664/60000]\n",
      "Test Error: \n",
      " Accuracy: 69.3%, Avg loss: 0.813746 \n",
      "\n",
      "Epoch 10\n",
      "-------------------------------\n",
      "loss: 0.839699  [   64/60000]\n",
      "loss: 0.900382  [ 6464/60000]\n",
      "loss: 0.672906  [12864/60000]\n",
      "loss: 0.866667  [19264/60000]\n",
      "loss: 0.777847  [25664/60000]\n",
      "loss: 0.764214  [32064/60000]\n",
      "loss: 0.846821  [38464/60000]\n",
      "loss: 0.821097  [44864/60000]\n",
      "loss: 0.830234  [51264/60000]\n",
      "loss: 0.786397  [57664/60000]\n",
      "Test Error: \n",
      " Accuracy: 70.4%, Avg loss: 0.783491 \n",
      "\n",
      "Done!\n"
     ]
    }
   ],
   "source": [
    "loss_fn = nn.CrossEntropyLoss()\n",
    "optimizer = torch.optim.SGD(model.parameters(), lr=learning_rate)\n",
    "\n",
    "epochs = 10\n",
    "for t in range(epochs):\n",
    "    print(f\"Epoch {t+1}\\n-------------------------------\")\n",
    "    train_loop(train_dataloader, model, loss_fn, optimizer)\n",
    "    test_loop(test_dataloader, model, loss_fn)\n",
    "print(\"Done!\")"
   ]
  },
  {
   "cell_type": "markdown",
   "metadata": {},
   "source": [
    "## Further Reading\n",
    "- [Loss Functions](https://pytorch.org/docs/stable/nn.html#loss-functions)\n",
    "- [torch.optim](https://pytorch.org/docs/stable/optim.html)\n",
    "- [Warmstart Training a Model](https://pytorch.org/tutorials/recipes/recipes/warmstarting_model_using_parameters_from_a_different_model.html)\n",
    "\n",
    "\n"
   ]
  },
  {
   "cell_type": "code",
   "execution_count": null,
   "metadata": {},
   "outputs": [],
   "source": []
  },
  {
   "cell_type": "code",
   "execution_count": null,
   "metadata": {},
   "outputs": [],
   "source": []
  },
  {
   "cell_type": "code",
   "execution_count": null,
   "metadata": {},
   "outputs": [],
   "source": []
  },
  {
   "cell_type": "code",
   "execution_count": null,
   "metadata": {},
   "outputs": [],
   "source": []
  },
  {
   "cell_type": "code",
   "execution_count": null,
   "metadata": {},
   "outputs": [],
   "source": []
  }
 ],
 "metadata": {
  "kernelspec": {
   "display_name": "Python 3 (ipykernel)",
   "language": "python",
   "name": "python3"
  },
  "language_info": {
   "codemirror_mode": {
    "name": "ipython",
    "version": 3
   },
   "file_extension": ".py",
   "mimetype": "text/x-python",
   "name": "python",
   "nbconvert_exporter": "python",
   "pygments_lexer": "ipython3",
   "version": "3.11.7"
  }
 },
 "nbformat": 4,
 "nbformat_minor": 4
}
