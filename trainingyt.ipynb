{
 "cells": [
  {
   "cell_type": "code",
   "execution_count": 1,
   "metadata": {
    "collapsed": false,
    "jupyter": {
     "outputs_hidden": false
    }
   },
   "outputs": [],
   "source": [
    "# For tips on running notebooks in Google Colab, see\n",
    "# https://pytorch.org/tutorials/beginner/colab\n",
    "%matplotlib inline"
   ]
  },
  {
   "cell_type": "markdown",
   "metadata": {},
   "source": [
    "\n",
    "[Introduction](introyt1_tutorial.html) ||\n",
    "[Tensors](tensors_deeper_tutorial.html) ||\n",
    "[Autograd](autogradyt_tutorial.html) ||\n",
    "[Building Models](modelsyt_tutorial.html) ||\n",
    "[TensorBoard Support](tensorboardyt_tutorial.html) ||\n",
    "**Training Models** ||\n",
    "[Model Understanding](captumyt.html)\n",
    "\n",
    "# Training with PyTorch\n",
    "\n",
    "Follow along with the video below or on [youtube](https://www.youtube.com/watch?v=jF43_wj_DCQ)_.\n",
    "\n",
    ".. raw:: html\n",
    "\n",
    "   <div style=\"margin-top:10px; margin-bottom:10px;\">\n",
    "     <iframe width=\"560\" height=\"315\" src=\"https://www.youtube.com/embed/jF43_wj_DCQ\" frameborder=\"0\" allow=\"accelerometer; encrypted-media; gyroscope; picture-in-picture\" allowfullscreen></iframe>\n",
    "   </div>\n",
    "\n",
    "## Introduction\n",
    "\n",
    "In past videos, we’ve discussed and demonstrated:\n",
    "\n",
    "- Building models with the neural network layers and functions of the torch.nn module\n",
    "- The mechanics of automated gradient computation, which is central to\n",
    "  gradient-based model training \n",
    "- Using TensorBoard to visualize training progress and other activities\n",
    "\n",
    "In this video, we’ll be adding some new tools to your inventory:\n",
    "\n",
    "- We’ll get familiar with the dataset and dataloader abstractions, and how\n",
    "  they ease the process of feeding data to your model during a training loop \n",
    "- We’ll discuss specific loss functions and when to use them\n",
    "- We’ll look at PyTorch optimizers, which implement algorithms to adjust\n",
    "  model weights based on the outcome of a loss function\n",
    "\n",
    "Finally, we’ll pull all of these together and see a full PyTorch\n",
    "training loop in action.\n",
    "\n",
    "\n",
    "## Dataset and DataLoader\n",
    " \n",
    "The ``Dataset`` and ``DataLoader`` classes encapsulate the process of\n",
    "pulling your data from storage and exposing it to your training loop in\n",
    "batches.\n",
    "\n",
    "The ``Dataset`` is responsible for accessing and processing single\n",
    "instances of data.\n",
    " \n",
    "The ``DataLoader`` pulls instances of data from the ``Dataset`` (either\n",
    "automatically or with a sampler that you define), collects them in\n",
    "batches, and returns them for consumption by your training loop. The\n",
    "``DataLoader`` works with all kinds of datasets, regardless of the type\n",
    "of data they contain.\n",
    " \n",
    "For this tutorial, we’ll be using the Fashion-MNIST dataset provided by\n",
    "TorchVision. We use ``torchvision.transforms.Normalize()`` to\n",
    "zero-center and normalize the distribution of the image tile content,\n",
    "and download both training and validation data splits.\n"
   ]
  },
  {
   "cell_type": "code",
   "execution_count": 2,
   "metadata": {
    "collapsed": false,
    "jupyter": {
     "outputs_hidden": false
    }
   },
   "outputs": [
    {
     "name": "stdout",
     "output_type": "stream",
     "text": [
      "Training set has 60000 instances\n",
      "Validation set has 10000 instances\n"
     ]
    }
   ],
   "source": [
    "import torch\n",
    "import torchvision\n",
    "import torchvision.transforms as transforms\n",
    "\n",
    "# PyTorch TensorBoard support\n",
    "from torch.utils.tensorboard import SummaryWriter\n",
    "from datetime import datetime\n",
    "\n",
    "\n",
    "transform = transforms.Compose(\n",
    "    [transforms.ToTensor(),\n",
    "    transforms.Normalize((0.5,), (0.5,))])\n",
    "\n",
    "# Create datasets for training & validation, download if necessary\n",
    "training_set = torchvision.datasets.FashionMNIST('./data', train=True, transform=transform, download=True)\n",
    "validation_set = torchvision.datasets.FashionMNIST('./data', train=False, transform=transform, download=True)\n",
    "\n",
    "# Create data loaders for our datasets; shuffle for training, not for validation\n",
    "training_loader = torch.utils.data.DataLoader(training_set, batch_size=4, shuffle=True)\n",
    "validation_loader = torch.utils.data.DataLoader(validation_set, batch_size=4, shuffle=False)\n",
    "\n",
    "# Class labels\n",
    "classes = ('T-shirt/top', 'Trouser', 'Pullover', 'Dress', 'Coat',\n",
    "        'Sandal', 'Shirt', 'Sneaker', 'Bag', 'Ankle Boot')\n",
    "\n",
    "# Report split sizes\n",
    "print('Training set has {} instances'.format(len(training_set)))\n",
    "print('Validation set has {} instances'.format(len(validation_set)))"
   ]
  },
  {
   "cell_type": "markdown",
   "metadata": {},
   "source": [
    "As always, let’s visualize the data as a sanity check:\n",
    "\n",
    "\n"
   ]
  },
  {
   "cell_type": "code",
   "execution_count": 3,
   "metadata": {
    "collapsed": false,
    "jupyter": {
     "outputs_hidden": false
    }
   },
   "outputs": [
    {
     "name": "stdout",
     "output_type": "stream",
     "text": [
      "T-shirt/top  Sneaker  Sandal  Shirt\n"
     ]
    },
    {
     "data": {
      "image/png": "[encoded data removed]",
      "text/plain": [
       "<Figure size 640x480 with 1 Axes>"
      ]
     },
     "metadata": {},
     "output_type": "display_data"
    }
   ],
   "source": [
    "import matplotlib.pyplot as plt\n",
    "import numpy as np\n",
    "\n",
    "# Helper function for inline image display\n",
    "def matplotlib_imshow(img, one_channel=False):\n",
    "    if one_channel:\n",
    "        img = img.mean(dim=0)\n",
    "    img = img / 2 + 0.5     # unnormalize\n",
    "    npimg = img.numpy()\n",
    "    if one_channel:\n",
    "        plt.imshow(npimg, cmap=\"Greys\")\n",
    "    else:\n",
    "        plt.imshow(np.transpose(npimg, (1, 2, 0)))\n",
    "\n",
    "dataiter = iter(training_loader)\n",
    "images, labels = next(dataiter)\n",
    "\n",
    "# Create a grid from the images and show them\n",
    "img_grid = torchvision.utils.make_grid(images)\n",
    "matplotlib_imshow(img_grid, one_channel=True)\n",
    "print('  '.join(classes[labels[j]] for j in range(4)))"
   ]
  },
  {
   "cell_type": "markdown",
   "metadata": {},
   "source": [
    "## The Model\n",
    "\n",
    "The model we’ll use in this example is a variant of LeNet-5 - it should\n",
    "be familiar if you’ve watched the previous videos in this series.\n",
    "\n",
    "\n"
   ]
  },
  {
   "cell_type": "code",
   "execution_count": 4,
   "metadata": {
    "collapsed": false,
    "jupyter": {
     "outputs_hidden": false
    }
   },
   "outputs": [],
   "source": [
    "import torch.nn as nn\n",
    "import torch.nn.functional as F\n",
    "\n",
    "# PyTorch models inherit from torch.nn.Module\n",
    "class GarmentClassifier(nn.Module):\n",
    "    def __init__(self):\n",
    "        super(GarmentClassifier, self).__init__()\n",
    "        self.conv1 = nn.Conv2d(1, 6, 5)\n",
    "        self.pool = nn.MaxPool2d(2, 2)\n",
    "        self.conv2 = nn.Conv2d(6, 16, 5)\n",
    "        self.fc1 = nn.Linear(16 * 4 * 4, 120)\n",
    "        self.fc2 = nn.Linear(120, 84)\n",
    "        self.fc3 = nn.Linear(84, 10)\n",
    "\n",
    "    def forward(self, x):\n",
    "        x = self.pool(F.relu(self.conv1(x)))\n",
    "        x = self.pool(F.relu(self.conv2(x)))\n",
    "        x = x.view(-1, 16 * 4 * 4)\n",
    "        x = F.relu(self.fc1(x))\n",
    "        x = F.relu(self.fc2(x))\n",
    "        x = self.fc3(x)\n",
    "        return x\n",
    "    \n",
    "\n",
    "model = GarmentClassifier()"
   ]
  },
  {
   "cell_type": "markdown",
   "metadata": {},
   "source": [
    "## Loss Function\n",
    "\n",
    "For this example, we’ll be using a cross-entropy loss. For demonstration\n",
    "purposes, we’ll create batches of dummy output and label values, run\n",
    "them through the loss function, and examine the result.\n",
    "\n",
    "\n"
   ]
  },
  {
   "cell_type": "code",
   "execution_count": 5,
   "metadata": {
    "collapsed": false,
    "jupyter": {
     "outputs_hidden": false
    }
   },
   "outputs": [
    {
     "name": "stdout",
     "output_type": "stream",
     "text": [
      "tensor([[0.9350, 0.0093, 0.0498, 0.0966, 0.7250, 0.0040, 0.1141, 0.3310, 0.1687,\n",
      "         0.1444],\n",
      "        [0.1546, 0.3882, 0.7996, 0.7316, 0.9383, 0.6956, 0.8095, 0.1888, 0.6118,\n",
      "         0.6196],\n",
      "        [0.6639, 0.6808, 0.7462, 0.5572, 0.6400, 0.3100, 0.6713, 0.4860, 0.9231,\n",
      "         0.6058],\n",
      "        [0.9395, 0.0237, 0.8984, 0.7411, 0.2244, 0.3195, 0.3705, 0.6246, 0.1096,\n",
      "         0.1556]])\n",
      "tensor([1, 5, 3, 7])\n",
      "Total loss for this batch: 2.3474364280700684\n"
     ]
    }
   ],
   "source": [
    "loss_fn = torch.nn.CrossEntropyLoss()\n",
    "\n",
    "# NB: Loss functions expect data in batches, so we're creating batches of 4\n",
    "# Represents the model's confidence in each of the 10 classes for a given input\n",
    "dummy_outputs = torch.rand(4, 10)\n",
    "# Represents the correct class among the 10 being tested\n",
    "dummy_labels = torch.tensor([1, 5, 3, 7])\n",
    "    \n",
    "print(dummy_outputs)\n",
    "print(dummy_labels)\n",
    "\n",
    "loss = loss_fn(dummy_outputs, dummy_labels)\n",
    "print('Total loss for this batch: {}'.format(loss.item()))"
   ]
  },
  {
   "cell_type": "markdown",
   "metadata": {},
   "source": [
    "## Optimizer\n",
    "\n",
    "For this example, we’ll be using simple [stochastic gradient\n",
    "descent](https://pytorch.org/docs/stable/optim.html)_ with momentum.\n",
    "\n",
    "It can be instructive to try some variations on this optimization\n",
    "scheme:\n",
    "\n",
    "- Learning rate determines the size of the steps the optimizer\n",
    "  takes. What does a different learning rate do to the your training\n",
    "  results, in terms of accuracy and convergence time?\n",
    "- Momentum nudges the optimizer in the direction of strongest gradient over\n",
    "  multiple steps. What does changing this value do to your results? \n",
    "- Try some different optimization algorithms, such as averaged SGD, Adagrad, or\n",
    "  Adam. How do your results differ?\n",
    "\n",
    "\n"
   ]
  },
  {
   "cell_type": "code",
   "execution_count": 6,
   "metadata": {
    "collapsed": false,
    "jupyter": {
     "outputs_hidden": false
    }
   },
   "outputs": [],
   "source": [
    "# Optimizers specified in the torch.optim package\n",
    "optimizer = torch.optim.SGD(model.parameters(), lr=0.001, momentum=0.9)"
   ]
  },
  {
   "cell_type": "markdown",
   "metadata": {},
   "source": [
    "## The Training Loop\n",
    "\n",
    "Below, we have a function that performs one training epoch. It\n",
    "enumerates data from the DataLoader, and on each pass of the loop does\n",
    "the following:\n",
    "\n",
    "- Gets a batch of training data from the DataLoader\n",
    "- Zeros the optimizer’s gradients \n",
    "- Performs an inference - that is, gets predictions from the model for an input batch\n",
    "- Calculates the loss for that set of predictions vs. the labels on the dataset\n",
    "- Calculates the backward gradients over the learning weights\n",
    "- Tells the optimizer to perform one learning step - that is, adjust the model’s\n",
    "  learning weights based on the observed gradients for this batch, according to the\n",
    "  optimization algorithm we chose\n",
    "- It reports on the loss for every 1000 batches.\n",
    "- Finally, it reports the average per-batch loss for the last\n",
    "  1000 batches, for comparison with a validation run\n",
    "\n",
    "\n"
   ]
  },
  {
   "cell_type": "code",
   "execution_count": 7,
   "metadata": {
    "collapsed": false,
    "jupyter": {
     "outputs_hidden": false
    }
   },
   "outputs": [],
   "source": [
    "def train_one_epoch(epoch_index, tb_writer):\n",
    "    running_loss = 0.\n",
    "    last_loss = 0.\n",
    "    \n",
    "    # Here, we use enumerate(training_loader) instead of\n",
    "    # iter(training_loader) so that we can track the batch\n",
    "    # index and do some intra-epoch reporting\n",
    "    for i, data in enumerate(training_loader):\n",
    "        # Every data instance is an input + label pair\n",
    "        inputs, labels = data\n",
    "        \n",
    "        # Zero your gradients for every batch!\n",
    "        optimizer.zero_grad()\n",
    "        \n",
    "        # Make predictions for this batch\n",
    "        outputs = model(inputs)\n",
    "        \n",
    "        # Compute the loss and its gradients\n",
    "        loss = loss_fn(outputs, labels)\n",
    "        loss.backward()\n",
    "        \n",
    "        # Adjust learning weights\n",
    "        optimizer.step()\n",
    "        \n",
    "        # Gather data and report\n",
    "        running_loss += loss.item()\n",
    "        if i % 1000 == 999:\n",
    "            last_loss = running_loss / 1000 # loss per batch\n",
    "            print('  batch {} loss: {}'.format(i + 1, last_loss))\n",
    "            tb_x = epoch_index * len(training_loader) + i + 1\n",
    "            tb_writer.add_scalar('Loss/train', last_loss, tb_x)\n",
    "            running_loss = 0.\n",
    "            \n",
    "    return last_loss"
   ]
  },
  {
   "cell_type": "markdown",
   "metadata": {},
   "source": [
    "### Per-Epoch Activity\n",
    "\n",
    "There are a couple of things we’ll want to do once per epoch: \n",
    "\n",
    "- Perform validation by checking our relative loss on a set of data that was not\n",
    "  used for training, and report this \n",
    "- Save a copy of the model\n",
    "\n",
    "Here, we’ll do our reporting in TensorBoard. This will require going to\n",
    "the command line to start TensorBoard, and opening it in another browser\n",
    "tab.\n",
    "\n",
    "\n"
   ]
  },
  {
   "cell_type": "code",
   "execution_count": 8,
   "metadata": {
    "collapsed": false,
    "jupyter": {
     "outputs_hidden": false
    }
   },
   "outputs": [
    {
     "name": "stdout",
     "output_type": "stream",
     "text": [
      "EPOCH 1:\n",
      "  batch 1000 loss: 2.014698460370302\n",
      "  batch 2000 loss: 0.9377465962059796\n",
      "  batch 3000 loss: 0.7392048881845549\n",
      "  batch 4000 loss: 0.6345048412764445\n",
      "  batch 5000 loss: 0.5758484726139832\n",
      "  batch 6000 loss: 0.567571089934092\n",
      "  batch 7000 loss: 0.5133184327882482\n",
      "  batch 8000 loss: 0.4820046427957714\n",
      "  batch 9000 loss: 0.497918906857376\n",
      "  batch 10000 loss: 0.480658195594151\n",
      "  batch 11000 loss: 0.47585168892511864\n",
      "  batch 12000 loss: 0.44991583776671906\n",
      "  batch 13000 loss: 0.42192503751988986\n",
      "  batch 14000 loss: 0.4577426592336851\n",
      "  batch 15000 loss: 0.3998638126140577\n",
      "LOSS train 0.3998638126140577 valid 0.4429773986339569\n",
      "EPOCH 2:\n",
      "  batch 1000 loss: 0.4186915648599388\n",
      "  batch 2000 loss: 0.38864664290669315\n",
      "  batch 3000 loss: 0.3775118761865306\n",
      "  batch 4000 loss: 0.38409818908516535\n",
      "  batch 5000 loss: 0.37706844307357096\n",
      "  batch 6000 loss: 0.38424010157055455\n",
      "  batch 7000 loss: 0.37625255211248443\n",
      "  batch 8000 loss: 0.3632250989446766\n",
      "  batch 9000 loss: 0.3624570282849454\n",
      "  batch 10000 loss: 0.33901005612977314\n",
      "  batch 11000 loss: 0.3657226146276225\n",
      "  batch 12000 loss: 0.3599043229417184\n",
      "  batch 13000 loss: 0.3414705021478876\n",
      "  batch 14000 loss: 0.3658317177390127\n",
      "  batch 15000 loss: 0.33387282567672083\n",
      "LOSS train 0.33387282567672083 valid 0.37401852011680603\n",
      "EPOCH 3:\n",
      "  batch 1000 loss: 0.32155256494818607\n",
      "  batch 2000 loss: 0.3327689636755968\n",
      "  batch 3000 loss: 0.33677232029361764\n",
      "  batch 4000 loss: 0.32032492895268294\n",
      "  batch 5000 loss: 0.3448677298226758\n",
      "  batch 6000 loss: 0.3215574680377031\n",
      "  batch 7000 loss: 0.3310363378779439\n",
      "  batch 8000 loss: 0.30913619528815617\n",
      "  batch 9000 loss: 0.313865649108825\n",
      "  batch 10000 loss: 0.31324605347533363\n",
      "  batch 11000 loss: 0.3440364048915162\n",
      "  batch 12000 loss: 0.31879234938927403\n",
      "  batch 13000 loss: 0.32223771217455216\n",
      "  batch 14000 loss: 0.3032262427938767\n",
      "  batch 15000 loss: 0.3032054736782557\n",
      "LOSS train 0.3032054736782557 valid 0.3673129677772522\n",
      "EPOCH 4:\n",
      "  batch 1000 loss: 0.2837189280075563\n",
      "  batch 2000 loss: 0.30221992147536547\n",
      "  batch 3000 loss: 0.2790207949088035\n",
      "  batch 4000 loss: 0.30427132807284396\n",
      "  batch 5000 loss: 0.3113147687042501\n",
      "  batch 6000 loss: 0.3106271610835611\n",
      "  batch 7000 loss: 0.31392356181873765\n",
      "  batch 8000 loss: 0.29128566511864845\n",
      "  batch 9000 loss: 0.2905103804424434\n",
      "  batch 10000 loss: 0.3089253074549197\n",
      "  batch 11000 loss: 0.28897156540021934\n",
      "  batch 12000 loss: 0.281545114003653\n",
      "  batch 13000 loss: 0.3108313707571051\n",
      "  batch 14000 loss: 0.2741859902676515\n",
      "  batch 15000 loss: 0.27808462082924595\n",
      "LOSS train 0.27808462082924595 valid 0.3205666244029999\n",
      "EPOCH 5:\n",
      "  batch 1000 loss: 0.28759913865925046\n",
      "  batch 2000 loss: 0.29347620639096567\n",
      "  batch 3000 loss: 0.2817978703400677\n",
      "  batch 4000 loss: 0.2837590841664169\n",
      "  batch 5000 loss: 0.28420885062563683\n",
      "  batch 6000 loss: 0.26800340316441723\n",
      "  batch 7000 loss: 0.29065084172423666\n",
      "  batch 8000 loss: 0.26631599372759956\n",
      "  batch 9000 loss: 0.2621068807347328\n",
      "  batch 10000 loss: 0.2609571592663106\n",
      "  batch 11000 loss: 0.26260130293326117\n",
      "  batch 12000 loss: 0.2816982641077484\n",
      "  batch 13000 loss: 0.2767890739341674\n",
      "  batch 14000 loss: 0.28051039627815955\n",
      "  batch 15000 loss: 0.2810103200341746\n",
      "LOSS train 0.2810103200341746 valid 0.33848193287849426\n"
     ]
    }
   ],
   "source": [
    "# Initializing in a separate cell so we can easily add more epochs to the same run\n",
    "timestamp = datetime.now().strftime('%Y%m%d_%H%M%S')\n",
    "writer = SummaryWriter('runs/fashion_trainer_{}'.format(timestamp))\n",
    "epoch_number = 0\n",
    "\n",
    "EPOCHS = 5\n",
    "\n",
    "best_vloss = 1_000_000.\n",
    "\n",
    "for epoch in range(EPOCHS):\n",
    "    print('EPOCH {}:'.format(epoch_number + 1))\n",
    "    \n",
    "    # Make sure gradient tracking is on, and do a pass over the data\n",
    "    model.train(True)\n",
    "    avg_loss = train_one_epoch(epoch_number, writer)\n",
    "    \n",
    "\n",
    "    running_vloss = 0.0\n",
    "    # Set the model to evaluation mode, disabling dropout and using population \n",
    "    # statistics for batch normalization.\n",
    "    model.eval()\n",
    "\n",
    "    # Disable gradient computation and reduce memory consumption.\n",
    "    with torch.no_grad():\n",
    "        for i, vdata in enumerate(validation_loader):\n",
    "            vinputs, vlabels = vdata\n",
    "            voutputs = model(vinputs)\n",
    "            vloss = loss_fn(voutputs, vlabels)\n",
    "            running_vloss += vloss\n",
    "    \n",
    "    avg_vloss = running_vloss / (i + 1)\n",
    "    print('LOSS train {} valid {}'.format(avg_loss, avg_vloss))\n",
    "    \n",
    "    # Log the running loss averaged per batch\n",
    "    # for both training and validation\n",
    "    writer.add_scalars('Training vs. Validation Loss',\n",
    "                    { 'Training' : avg_loss, 'Validation' : avg_vloss },\n",
    "                    epoch_number + 1)\n",
    "    writer.flush()\n",
    "    \n",
    "    # Track best performance, and save the model's state\n",
    "    if avg_vloss < best_vloss:\n",
    "        best_vloss = avg_vloss\n",
    "        model_path = 'model_{}_{}'.format(timestamp, epoch_number)\n",
    "        torch.save(model.state_dict(), model_path)\n",
    "    \n",
    "    epoch_number += 1"
   ]
  },
  {
   "cell_type": "markdown",
   "metadata": {},
   "source": [
    "To load a saved version of the model:\n",
    "\n",
    ".. code:: python\n",
    "\n",
    "    saved_model = GarmentClassifier()\n",
    "    saved_model.load_state_dict(torch.load(PATH))\n",
    "\n",
    "Once you’ve loaded the model, it’s ready for whatever you need it for -\n",
    "more training, inference, or analysis.\n",
    "\n",
    "Note that if your model has constructor parameters that affect model\n",
    "structure, you’ll need to provide them and configure the model\n",
    "identically to the state in which it was saved.\n",
    "\n",
    "## Other Resources\n",
    "\n",
    "-  Docs on the [data\n",
    "   utilities](https://pytorch.org/docs/stable/data.html)_, including\n",
    "   Dataset and DataLoader, at pytorch.org\n",
    "-  A [note on the use of pinned\n",
    "   memory](https://pytorch.org/docs/stable/notes/cuda.html#cuda-memory-pinning)_\n",
    "   for GPU training\n",
    "-  Documentation on the datasets available in\n",
    "   [TorchVision](https://pytorch.org/vision/stable/datasets.html)_,\n",
    "   [TorchText](https://pytorch.org/text/stable/datasets.html)_, and\n",
    "   [TorchAudio](https://pytorch.org/audio/stable/datasets.html)_\n",
    "-  Documentation on the [loss\n",
    "   functions](https://pytorch.org/docs/stable/nn.html#loss-functions)_\n",
    "   available in PyTorch\n",
    "-  Documentation on the [torch.optim\n",
    "   package](https://pytorch.org/docs/stable/optim.html)_, which\n",
    "   includes optimizers and related tools, such as learning rate\n",
    "   scheduling\n",
    "-  A detailed [tutorial on saving and loading\n",
    "   models](https://pytorch.org/tutorials/beginner/saving_loading_models.html)_\n",
    "-  The [Tutorials section of\n",
    "   pytorch.org](https://pytorch.org/tutorials/)_ contains tutorials on\n",
    "   a broad variety of training tasks, including classification in\n",
    "   different domains, generative adversarial networks, reinforcement\n",
    "   learning, and more \n",
    "\n",
    "\n"
   ]
  },
  {
   "cell_type": "code",
   "execution_count": null,
   "metadata": {},
   "outputs": [],
   "source": []
  },
  {
   "cell_type": "code",
   "execution_count": null,
   "metadata": {},
   "outputs": [],
   "source": []
  },
  {
   "cell_type": "code",
   "execution_count": null,
   "metadata": {},
   "outputs": [],
   "source": []
  },
  {
   "cell_type": "code",
   "execution_count": null,
   "metadata": {},
   "outputs": [],
   "source": []
  }
 ],
 "metadata": {
  "kernelspec": {
   "display_name": "Python 3 (ipykernel)",
   "language": "python",
   "name": "python3"
  },
  "language_info": {
   "codemirror_mode": {
    "name": "ipython",
    "version": 3
   },
   "file_extension": ".py",
   "mimetype": "text/x-python",
   "name": "python",
   "nbconvert_exporter": "python",
   "pygments_lexer": "ipython3",
   "version": "3.11.7"
  }
 },
 "nbformat": 4,
 "nbformat_minor": 4
}
